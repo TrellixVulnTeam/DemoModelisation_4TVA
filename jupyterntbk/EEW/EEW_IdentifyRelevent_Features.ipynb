{
 "cells": [
  {
   "cell_type": "code",
   "execution_count": 11,
   "metadata": {},
   "outputs": [],
   "source": [
    "import pandas as pd\n",
    "from datetime import datetime\n",
    "\n",
    "def set_time(d):    \n",
    "    return datetime.strptime(d, '%Y-%m-%d')\n",
    "data_file = \"Data/donnees_journalieres_narbonne.csv\"\n",
    "\n",
    "data = pd.read_csv(data_file)\n",
    "data['Unnamed: 0'] = data['Unnamed: 0'].apply(set_time)\n",
    "data.set_index('Unnamed: 0', inplace=True)\n",
    "\n",
    "#data.dropna(inplace=True)"
   ]
  },
  {
   "cell_type": "code",
   "execution_count": 13,
   "metadata": {},
   "outputs": [
    {
     "data": {
      "text/plain": [
       "Index(['EVELER_P_ACT_KW', 'OPUS_Ch_DCO__EB_SYS__kg/j',\n",
       "       'OPUS_Ch_DCO__EE_SYS__kg/j', 'OPUS_Ch_MEST__EB_SYS__kg/j',\n",
       "       'OPUS_Ch_MEST__EE_SYS__kg/j', 'OPUS_Ch_NGL__EB_SYS__kg/j',\n",
       "       'OPUS_Ch_NGL__EE_SYS__kg/j', 'OPUS_QJ__EB_SYS__m³/j',\n",
       "       'OPUS_QJ__EE_SYS__m³/j', 'OPUS_Ch_DCO_traitee', 'OPUS_Ch_MEST_traitee',\n",
       "       'OPUS_Ch_NGL_traitee', 'precipitationPreviousHourCentimeters-sum',\n",
       "       'DEBIT_BOUES_EN_EXCES_1', 'DEBIT_BOUES_EN_EXCES_2', 'DEBIT_BY_PASS',\n",
       "       'DEBIT_DE_SORTIE_FILE_1', 'DEBIT_DE_SORTIE_FILE_2', 'DEBIT_ENTREE',\n",
       "       'DEBIT_LIQUEUR_BIOLIX', 'DEBIT_POSTE_TOUTE_EAU',\n",
       "       'DEBIT_PPE_RECIRCULATION_T1_F1', 'DEBIT_PPE_RECIRCULATION_T1_F2',\n",
       "       'DEBIT_PPE_RECIRCULATION_T2_F1', 'DEBIT_PPE_RECIRCULATION_T2_F2',\n",
       "       'DEBIT_REACTIF_FILE_1_CENTRI_1', 'DEBIT_REACTIF_FILE_2_CENTRI_2',\n",
       "       'DEBIT_RECIRCULATION_F1', 'DEBIT_RECIRCULATION_F2', 'DEBIT_SORTIE',\n",
       "       'DEBIT_VIDANGE_AVAL_DEGRILLEUR'],\n",
       "      dtype='object')"
      ]
     },
     "execution_count": 13,
     "metadata": {},
     "output_type": "execute_result"
    }
   ],
   "source": [
    "data.columns"
   ]
  },
  {
   "cell_type": "code",
   "execution_count": 14,
   "metadata": {},
   "outputs": [],
   "source": [
    "df_corr = data.corr()"
   ]
  },
  {
   "cell_type": "code",
   "execution_count": 16,
   "metadata": {},
   "outputs": [],
   "source": [
    "df_corr_conso = df_corr['EVELER_P_ACT_KW']\n",
    "\n",
    "df_corr_conso.dropna(inplace=True)"
   ]
  },
  {
   "cell_type": "code",
   "execution_count": 17,
   "metadata": {},
   "outputs": [
    {
     "data": {
      "text/plain": [
       "EVELER_P_ACT_KW                             1.000000\n",
       "OPUS_Ch_DCO__EB_SYS__kg/j                   0.151201\n",
       "OPUS_Ch_DCO__EE_SYS__kg/j                  -0.030230\n",
       "OPUS_Ch_MEST__EB_SYS__kg/j                  0.081968\n",
       "OPUS_Ch_MEST__EE_SYS__kg/j                  0.024723\n",
       "OPUS_Ch_NGL__EB_SYS__kg/j                  -0.023855\n",
       "OPUS_Ch_NGL__EE_SYS__kg/j                   0.012929\n",
       "OPUS_QJ__EB_SYS__m³/j                      -0.054548\n",
       "OPUS_QJ__EE_SYS__m³/j                      -0.064417\n",
       "OPUS_Ch_DCO_traitee                         0.152579\n",
       "OPUS_Ch_MEST_traitee                        0.081621\n",
       "OPUS_Ch_NGL_traitee                        -0.027550\n",
       "precipitationPreviousHourCentimeters-sum   -0.009934\n",
       "DEBIT_BOUES_EN_EXCES_1                      0.252375\n",
       "DEBIT_BOUES_EN_EXCES_2                      0.739993\n",
       "DEBIT_DE_SORTIE_FILE_1                      0.127563\n",
       "DEBIT_DE_SORTIE_FILE_2                      0.132139\n",
       "DEBIT_ENTREE                                0.115878\n",
       "DEBIT_LIQUEUR_BIOLIX                       -0.047782\n",
       "DEBIT_POSTE_TOUTE_EAU                       0.405486\n",
       "DEBIT_REACTIF_FILE_1_CENTRI_1               0.244731\n",
       "DEBIT_REACTIF_FILE_2_CENTRI_2               0.704924\n",
       "DEBIT_RECIRCULATION_F1                     -0.047164\n",
       "DEBIT_RECIRCULATION_F2                     -0.128748\n",
       "DEBIT_SORTIE                                0.131542\n",
       "DEBIT_VIDANGE_AVAL_DEGRILLEUR               0.005022\n",
       "Name: EVELER_P_ACT_KW, dtype: float64"
      ]
     },
     "execution_count": 17,
     "metadata": {},
     "output_type": "execute_result"
    }
   ],
   "source": [
    "df_corr_conso"
   ]
  },
  {
   "cell_type": "code",
   "execution_count": 19,
   "metadata": {},
   "outputs": [
    {
     "data": {
      "text/plain": [
       "<matplotlib.axes._subplots.AxesSubplot at 0x7f9c2bb550f0>"
      ]
     },
     "execution_count": 19,
     "metadata": {},
     "output_type": "execute_result"
    }
   ],
   "source": [
    "df_corr_conso.plot.bar(rot=0)"
   ]
  },
  {
   "cell_type": "code",
   "execution_count": null,
   "metadata": {},
   "outputs": [],
   "source": []
  }
 ],
 "metadata": {
  "kernelspec": {
   "display_name": "Python 3",
   "language": "python",
   "name": "python3"
  },
  "language_info": {
   "codemirror_mode": {
    "name": "ipython",
    "version": 3
   },
   "file_extension": ".py",
   "mimetype": "text/x-python",
   "name": "python",
   "nbconvert_exporter": "python",
   "pygments_lexer": "ipython3",
   "version": "3.6.9"
  }
 },
 "nbformat": 4,
 "nbformat_minor": 4
}
