{
 "cells": [
  {
   "cell_type": "markdown",
   "metadata": {
    "colab_type": "text",
    "id": "iEIB-XIG8pyO"
   },
   "source": [
    "# Definition de fonctions annexes"
   ]
  },
  {
   "cell_type": "code",
   "execution_count": 1,
   "metadata": {
    "colab": {},
    "colab_type": "code",
    "id": "6aubNeIP0QYO"
   },
   "outputs": [],
   "source": [
    "def MAPE(y_mesuree, y_modelisee):\n",
    "  # Erreur moyenne relative des modèles (MAPE)\n",
    "  import numpy as np\n",
    "  diff = (y_modelisee - y_mesuree)/y_mesuree\n",
    "  mape = np.abs(diff).sum()/len(diff)*100\n",
    "  return np.round(mape,1)"
   ]
  },
  {
   "cell_type": "code",
   "execution_count": 2,
   "metadata": {},
   "outputs": [],
   "source": [
    "def ploy_y_ymod(y_test, Ypredit_test):\n",
    "\n",
    "\n",
    "    import matplotlib.pyplot as plt\n",
    "    #%matplotlib inline\n",
    "    plt.figure(figsize=(5,5))\n",
    "    plt.scatter(y_test, Ypredit_test, marker= 'o', s=50, alpha=0.8)\n",
    "    plt.plot([0,y_test.max()], [0,y_test.max()], 'r-')\n",
    " \n",
    "    plt.xlabel('mesuré')\n",
    "    plt.ylabel('calculé')\n",
    "    plt.axis('equal')\n",
    "    plt.axis([0,y_test.max(), 0, y_test.max()])\n",
    "    plt.show()"
   ]
  },
  {
   "cell_type": "code",
   "execution_count": 3,
   "metadata": {
    "colab": {},
    "colab_type": "code",
    "id": "dStTvZJ8OGTf"
   },
   "outputs": [],
   "source": [
    "def plot_time_serie(data, vars_):\n",
    "\n",
    "  import plotly.graph_objects as go\n",
    "\n",
    "  fig = go.Figure()\n",
    "\n",
    "  for v in vars_:\n",
    "    fig.add_trace(go.Scatter(x=data[v].index, y=data[v],\n",
    "                    mode='lines',\n",
    "                    name=v))\n",
    "\n",
    "  fig.show()"
   ]
  },
  {
   "cell_type": "code",
   "execution_count": 4,
   "metadata": {},
   "outputs": [],
   "source": [
    "def plot_feature_weight(feat_name, feat_weight):\n",
    "\n",
    "    import matplotlib.pyplot as plt\n",
    "    import pandas as pd\n",
    "\n",
    "    df_feat_imp = pd.DataFrame({'Poids Facteur %':100*feat_weight},index=feat_name)\n",
    "    df_feat_imp.sort_values(by=['Poids Facteur %'], inplace=True)\n",
    "    df_feat_imp.plot.barh(title=\"Importance des facteurs explicatifs\")"
   ]
  },
  {
   "cell_type": "markdown",
   "metadata": {
    "colab_type": "text",
    "id": "d0rIxtUWrWA-"
   },
   "source": [
    "# Lecture des données"
   ]
  },
  {
   "cell_type": "code",
   "execution_count": 5,
   "metadata": {
    "colab": {},
    "colab_type": "code",
    "id": "WEcBauutI3fg"
   },
   "outputs": [],
   "source": [
    "file = '../Data/AmＭioration Four.xlsx'\n",
    "import pandas as pd\n",
    "data = pd.read_excel(file)\n",
    "data.set_index(\"Date\",inplace=True)\n"
   ]
  },
  {
   "cell_type": "markdown",
   "metadata": {
    "colab_type": "text",
    "id": "NCTKtaE4rbky"
   },
   "source": [
    "# Suppression NaN et calcul d'autres variables (temps de séjour, volume de gaz consommé,...)"
   ]
  },
  {
   "cell_type": "code",
   "execution_count": 6,
   "metadata": {
    "colab": {
     "base_uri": "https://localhost:8080/",
     "height": 51
    },
    "colab_type": "code",
    "executionInfo": {
     "elapsed": 1925,
     "status": "ok",
     "timestamp": 1591875363333,
     "user": {
      "displayName": "david mouquet",
      "photoUrl": "",
      "userId": "09270911150184946710"
     },
     "user_tz": -120
    },
    "id": "Kv_XI2-riyZN",
    "outputId": "bb784147-6266-4853-804a-af2e8974c70b"
   },
   "outputs": [
    {
     "name": "stdout",
     "output_type": "stream",
     "text": [
      "Nombre de données avant suppression des Valeurs incohérentes:  21428\n",
      "Nombre de données aprés suppression des Valeurs incohérentes:  21270\n"
     ]
    }
   ],
   "source": [
    "import numpy as np\n",
    "\n",
    "print('Nombre de données avant suppression des Valeurs incohérentes: ',len(data))\n",
    "\n",
    "\n",
    "\n",
    "# somme des débits de gaz pour la préchauffe\n",
    "data['PCH_DEBMOY_GAZ_TOT'] = data[['PCH_DEBMOY_GAZ_Z1','PCH_DEBMOY_GAZ_Z2','PCH_DEBMOY_GAZ_Z3']].sum(axis=1)\n",
    "\n",
    "# Calcul du temps de séjours des bobines\n",
    "import numpy as np\n",
    "DT = data.index[1:] - data.index[:-1]\n",
    "DT_minute = np.asarray(DT.seconds)/60\n",
    "DT_minute = np.append([0.0],DT_minute)\n",
    "data['Resid_Time'] = DT_minute # Temps de résidence des bobines dans le fours en minutes\n",
    "\n",
    "\n",
    "data = data[((data.Resid_Time - data.Resid_Time.mean()) / data.Resid_Time.std()).abs() < 3]\n",
    "data = data[((data.PCH_DEBMOY_GAZ_TOT - data.PCH_DEBMOY_GAZ_TOT.mean()) / data.PCH_DEBMOY_GAZ_TOT.std()).abs() < 3]\n",
    "\n",
    "\n",
    "\n",
    "# Je calcul la variable 'FOU_CONSO_GAZ_GEN': Volume de gaz consommé/bobine (en Nm3)\n",
    "data['FOU_CONSO_GAZ_GEN'] = data['Resid_Time']/60*data['FOU_DEBMOY_GAZ_GEN']\n",
    "# On supprime les valeurs ou 'FOU_CONSO_GAZ_GEN' est =0.0\n",
    "data = data.query('FOU_CONSO_GAZ_GEN > 0.0')\n",
    "data = data.dropna()\n",
    "# données avant les modifications\n",
    "data_avt = data[data.index<='2018-08-19 06:08:10']\n",
    "data['status'] = 'Avant modification'\n",
    "data.loc[data.index>'2018-08-19 06:08:10', 'status'] = 'Après modification'\n",
    "print('Nombre de données aprés suppression des Valeurs incohérentes: ',len(data))"
   ]
  },
  {
   "cell_type": "markdown",
   "metadata": {
    "colab_type": "text",
    "id": "Yw9IYmGPIyo8"
   },
   "source": [
    "# Modele sur les données avant modification sur la variable volume de gaz consommé totale du four FOU_CONSO_GAZ_GEN"
   ]
  },
  {
   "cell_type": "markdown",
   "metadata": {
    "colab_type": "text",
    "id": "vBzbnCIRScpI"
   },
   "source": [
    "## Découpage des données en une partie test et une partie entrainement"
   ]
  },
  {
   "cell_type": "code",
   "execution_count": 7,
   "metadata": {
    "colab": {
     "base_uri": "https://localhost:8080/",
     "height": 119
    },
    "colab_type": "code",
    "executionInfo": {
     "elapsed": 899,
     "status": "ok",
     "timestamp": 1591881491847,
     "user": {
      "displayName": "david mouquet",
      "photoUrl": "",
      "userId": "09270911150184946710"
     },
     "user_tz": -120
    },
    "id": "IVvRL02H7ZqD",
    "outputId": "6f00ffc1-a0bf-45f8-816d-538c5e0ec946"
   },
   "outputs": [
    {
     "name": "stdout",
     "output_type": "stream",
     "text": [
      "Train (10662, 6) (10662, 1)\n",
      "Test (3555, 6) (3555, 1)\n"
     ]
    }
   ],
   "source": [
    "from sklearn.model_selection import train_test_split\n",
    "import numpy as np\n",
    "import seaborn as sns\n",
    "import matplotlib.pyplot as plt\n",
    "import statsmodels.api as sm\n",
    "import statsmodels.formula.api as smf\n",
    "from scipy.stats import t, shapiro\n",
    "from statsmodels.stats.outliers_influence import variance_inflation_factor\n",
    "import statsmodels\n",
    "from functions import *\n",
    "\n",
    "\n",
    "predicteurs = ['EPA_ENT','LAR_ENT', 'LNG_BOB_REA','PDS_ENVOG','VIT_CEN_MOY','PCH_TMPMOY_CONS_P1']\n",
    "varaexpl    = ['FOU_CONSO_GAZ_GEN']\n",
    "\n",
    "# Variables explicatives\n",
    "# X = dataset[:, :-1]\n",
    "\n",
    "# Variable à expliquer (volume gaz général du four)\n",
    "# y = dataset[:,-1]\n",
    "\n",
    "X_train,X_test,y_train,y_test = train_test_split(data_avt[predicteurs],data_avt[varaexpl], test_size=0.25)\n",
    "\n",
    "\n",
    "print('Train', X_train.shape, y_train.shape)\n",
    "print('Test', X_test.shape, y_test.shape)\n",
    "\n",
    "data_train = pd.concat([X_train, y_train], axis=1)\n",
    "data_test = pd.concat([X_test, y_test], axis=1)\n"
   ]
  },
  {
   "cell_type": "code",
   "execution_count": 8,
   "metadata": {},
   "outputs": [
    {
     "data": {
      "text/html": [
       "<div>\n",
       "<style scoped>\n",
       "    .dataframe tbody tr th:only-of-type {\n",
       "        vertical-align: middle;\n",
       "    }\n",
       "\n",
       "    .dataframe tbody tr th {\n",
       "        vertical-align: top;\n",
       "    }\n",
       "\n",
       "    .dataframe thead th {\n",
       "        text-align: right;\n",
       "    }\n",
       "</style>\n",
       "<table border=\"1\" class=\"dataframe\">\n",
       "  <thead>\n",
       "    <tr style=\"text-align: right;\">\n",
       "      <th></th>\n",
       "      <th>EPA_ENT</th>\n",
       "      <th>LAR_ENT</th>\n",
       "      <th>LNG_BOB_REA</th>\n",
       "      <th>PDS_ENVOG</th>\n",
       "      <th>VIT_CEN_MOY</th>\n",
       "      <th>PCH_TMPMOY_CONS_P1</th>\n",
       "    </tr>\n",
       "    <tr>\n",
       "      <th>Date</th>\n",
       "      <th></th>\n",
       "      <th></th>\n",
       "      <th></th>\n",
       "      <th></th>\n",
       "      <th></th>\n",
       "      <th></th>\n",
       "    </tr>\n",
       "  </thead>\n",
       "  <tbody>\n",
       "    <tr>\n",
       "      <th>2018-08-17 10:24:29</th>\n",
       "      <td>871.0</td>\n",
       "      <td>1507.5</td>\n",
       "      <td>1865.0</td>\n",
       "      <td>19820.0</td>\n",
       "      <td>99.77317</td>\n",
       "      <td>740.0</td>\n",
       "    </tr>\n",
       "    <tr>\n",
       "      <th>2018-03-15 15:50:49</th>\n",
       "      <td>859.0</td>\n",
       "      <td>1276.6</td>\n",
       "      <td>1389.0</td>\n",
       "      <td>12620.0</td>\n",
       "      <td>109.42650</td>\n",
       "      <td>700.0</td>\n",
       "    </tr>\n",
       "    <tr>\n",
       "      <th>2018-02-08 11:45:11</th>\n",
       "      <td>979.0</td>\n",
       "      <td>1503.0</td>\n",
       "      <td>1190.0</td>\n",
       "      <td>13660.0</td>\n",
       "      <td>103.00250</td>\n",
       "      <td>670.0</td>\n",
       "    </tr>\n",
       "    <tr>\n",
       "      <th>2018-05-06 07:06:20</th>\n",
       "      <td>392.0</td>\n",
       "      <td>1342.2</td>\n",
       "      <td>2345.0</td>\n",
       "      <td>9870.0</td>\n",
       "      <td>130.00000</td>\n",
       "      <td>650.0</td>\n",
       "    </tr>\n",
       "    <tr>\n",
       "      <th>2018-08-16 18:17:29</th>\n",
       "      <td>493.0</td>\n",
       "      <td>1343.7</td>\n",
       "      <td>2433.0</td>\n",
       "      <td>12830.0</td>\n",
       "      <td>116.74550</td>\n",
       "      <td>690.0</td>\n",
       "    </tr>\n",
       "  </tbody>\n",
       "</table>\n",
       "</div>"
      ],
      "text/plain": [
       "                     EPA_ENT  LAR_ENT  LNG_BOB_REA  PDS_ENVOG  VIT_CEN_MOY  \\\n",
       "Date                                                                         \n",
       "2018-08-17 10:24:29    871.0   1507.5       1865.0    19820.0     99.77317   \n",
       "2018-03-15 15:50:49    859.0   1276.6       1389.0    12620.0    109.42650   \n",
       "2018-02-08 11:45:11    979.0   1503.0       1190.0    13660.0    103.00250   \n",
       "2018-05-06 07:06:20    392.0   1342.2       2345.0     9870.0    130.00000   \n",
       "2018-08-16 18:17:29    493.0   1343.7       2433.0    12830.0    116.74550   \n",
       "\n",
       "                     PCH_TMPMOY_CONS_P1  \n",
       "Date                                     \n",
       "2018-08-17 10:24:29               740.0  \n",
       "2018-03-15 15:50:49               700.0  \n",
       "2018-02-08 11:45:11               670.0  \n",
       "2018-05-06 07:06:20               650.0  \n",
       "2018-08-16 18:17:29               690.0  "
      ]
     },
     "execution_count": 8,
     "metadata": {},
     "output_type": "execute_result"
    }
   ],
   "source": [
    "X_train.head()"
   ]
  },
  {
   "cell_type": "markdown",
   "metadata": {},
   "source": [
    "## Regression linéaire avec toutes les variables"
   ]
  },
  {
   "cell_type": "code",
   "execution_count": 9,
   "metadata": {},
   "outputs": [
    {
     "name": "stdout",
     "output_type": "stream",
     "text": [
      "                            OLS Regression Results                            \n",
      "==============================================================================\n",
      "Dep. Variable:      FOU_CONSO_GAZ_GEN   R-squared:                       0.735\n",
      "Model:                            OLS   Adj. R-squared:                  0.735\n",
      "Method:                 Least Squares   F-statistic:                     4922.\n",
      "Date:                Wed, 29 Jul 2020   Prob (F-statistic):               0.00\n",
      "Time:                        10:44:29   Log-Likelihood:                -61890.\n",
      "No. Observations:               10662   AIC:                         1.238e+05\n",
      "Df Residuals:                   10655   BIC:                         1.238e+05\n",
      "Df Model:                           6                                         \n",
      "Covariance Type:            nonrobust                                         \n",
      "======================================================================================\n",
      "                         coef    std err          t      P>|t|      [0.025      0.975]\n",
      "--------------------------------------------------------------------------------------\n",
      "Intercept           -173.0042     23.834     -7.259      0.000    -219.723    -126.285\n",
      "EPA_ENT               -0.0309      0.005     -6.816      0.000      -0.040      -0.022\n",
      "LAR_ENT               -0.0679      0.005    -12.620      0.000      -0.078      -0.057\n",
      "LNG_BOB_REA            0.0036      0.002      2.096      0.036       0.000       0.007\n",
      "PDS_ENVOG              0.0231      0.000     90.454      0.000       0.023       0.024\n",
      "VIT_CEN_MOY           -0.6568      0.050    -13.231      0.000      -0.754      -0.560\n",
      "PCH_TMPMOY_CONS_P1     0.5366      0.029     18.517      0.000       0.480       0.593\n",
      "==============================================================================\n",
      "Omnibus:                    19619.872   Durbin-Watson:                   2.004\n",
      "Prob(Omnibus):                  0.000   Jarque-Bera (JB):         40460255.786\n",
      "Skew:                          13.608   Prob(JB):                         0.00\n",
      "Kurtosis:                     303.557   Cond. No.                     4.96e+05\n",
      "==============================================================================\n",
      "\n",
      "Warnings:\n",
      "[1] Standard Errors assume that the covariance matrix of the errors is correctly specified.\n",
      "[2] The condition number is large, 4.96e+05. This might indicate that there are\n",
      "strong multicollinearity or other numerical problems.\n"
     ]
    }
   ],
   "source": [
    "reg_multi = smf.ols('FOU_CONSO_GAZ_GEN~EPA_ENT+LAR_ENT+LNG_BOB_REA+PDS_ENVOG+VIT_CEN_MOY+PCH_TMPMOY_CONS_P1', data=data_train).fit()\n",
    "print(reg_multi.summary())"
   ]
  },
  {
   "cell_type": "markdown",
   "metadata": {},
   "source": [
    "## Regression linéaire en supprimant LNG_BOB_REA"
   ]
  },
  {
   "cell_type": "code",
   "execution_count": 10,
   "metadata": {},
   "outputs": [
    {
     "name": "stdout",
     "output_type": "stream",
     "text": [
      "                            OLS Regression Results                            \n",
      "==============================================================================\n",
      "Dep. Variable:      FOU_CONSO_GAZ_GEN   R-squared:                       0.735\n",
      "Model:                            OLS   Adj. R-squared:                  0.735\n",
      "Method:                 Least Squares   F-statistic:                     5903.\n",
      "Date:                Wed, 29 Jul 2020   Prob (F-statistic):               0.00\n",
      "Time:                        10:44:29   Log-Likelihood:                -61892.\n",
      "No. Observations:               10662   AIC:                         1.238e+05\n",
      "Df Residuals:                   10656   BIC:                         1.238e+05\n",
      "Df Model:                           5                                         \n",
      "Covariance Type:            nonrobust                                         \n",
      "======================================================================================\n",
      "                         coef    std err          t      P>|t|      [0.025      0.975]\n",
      "--------------------------------------------------------------------------------------\n",
      "Intercept           -162.7588     23.331     -6.976      0.000    -208.492    -117.025\n",
      "EPA_ENT               -0.0365      0.004     -9.993      0.000      -0.044      -0.029\n",
      "LAR_ENT               -0.0739      0.005    -16.251      0.000      -0.083      -0.065\n",
      "PDS_ENVOG              0.0235      0.000    161.708      0.000       0.023       0.024\n",
      "VIT_CEN_MOY           -0.6486      0.049    -13.105      0.000      -0.746      -0.552\n",
      "PCH_TMPMOY_CONS_P1     0.5399      0.029     18.656      0.000       0.483       0.597\n",
      "==============================================================================\n",
      "Omnibus:                    19616.128   Durbin-Watson:                   2.004\n",
      "Prob(Omnibus):                  0.000   Jarque-Bera (JB):         40378404.879\n",
      "Skew:                          13.603   Prob(JB):                         0.00\n",
      "Kurtosis:                     303.252   Cond. No.                     4.82e+05\n",
      "==============================================================================\n",
      "\n",
      "Warnings:\n",
      "[1] Standard Errors assume that the covariance matrix of the errors is correctly specified.\n",
      "[2] The condition number is large, 4.82e+05. This might indicate that there are\n",
      "strong multicollinearity or other numerical problems.\n"
     ]
    }
   ],
   "source": [
    "reg_multi = smf.ols('FOU_CONSO_GAZ_GEN~EPA_ENT+LAR_ENT+PDS_ENVOG+VIT_CEN_MOY+PCH_TMPMOY_CONS_P1', data=data_train).fit()\n",
    "print(reg_multi.summary())"
   ]
  },
  {
   "cell_type": "code",
   "execution_count": 11,
   "metadata": {},
   "outputs": [],
   "source": [
    "y_train_pred = reg_multi.predict(X_train)"
   ]
  },
  {
   "cell_type": "code",
   "execution_count": 12,
   "metadata": {},
   "outputs": [
    {
     "data": {
      "image/png": "[encoded data removed]",
      "text/plain": [
       "<Figure size 360x360 with 1 Axes>"
      ]
     },
     "metadata": {
      "needs_background": "light"
     },
     "output_type": "display_data"
    }
   ],
   "source": [
    "ploy_y_ymod(y_train.values, y_train_pred.values)"
   ]
  },
  {
   "cell_type": "markdown",
   "metadata": {},
   "source": [
    "## On identifie les valeurs abbérantes sur les facteurs"
   ]
  },
  {
   "cell_type": "markdown",
   "metadata": {},
   "source": [
    "Nous allons ici réaliser les tests à un niveau $\\alpha=5$% :"
   ]
  },
  {
   "cell_type": "code",
   "execution_count": 13,
   "metadata": {},
   "outputs": [],
   "source": [
    "alpha = 0.05"
   ]
  },
  {
   "cell_type": "markdown",
   "metadata": {},
   "source": [
    "Récupérons $n$, le nombre d'individus de l'échantillon, et $p$, le nombre de variables."
   ]
  },
  {
   "cell_type": "code",
   "execution_count": 14,
   "metadata": {},
   "outputs": [],
   "source": [
    "n = data_train.shape[0]\n",
    "p = 6"
   ]
  },
  {
   "cell_type": "markdown",
   "metadata": {},
   "source": [
    "Nous allons mener des analyses sur les valeurs atypiques et/ou influentes en travaillant sur un dataframe appelé  analyses."
   ]
  },
  {
   "cell_type": "code",
   "execution_count": 15,
   "metadata": {},
   "outputs": [],
   "source": [
    "analyses = pd.DataFrame(index=data_train.index)\n",
    "analyses['obs'] = np.arange(1, n+1)"
   ]
  },
  {
   "cell_type": "markdown",
   "metadata": {},
   "source": [
    "## Calculez les leviers\n",
    "\n",
    "On peut calculer les leviers comme ceci, en sachant que le seuil des leviers est de $2∗\\frac{p}{n}$."
   ]
  },
  {
   "cell_type": "code",
   "execution_count": 16,
   "metadata": {},
   "outputs": [],
   "source": [
    "analyses['levier']   = reg_multi.get_influence().hat_matrix_diag\n",
    "data_train['levier'] = analyses['levier']\n",
    "seuil_levier = 2*p/n"
   ]
  },
  {
   "cell_type": "code",
   "execution_count": 17,
   "metadata": {},
   "outputs": [
    {
     "data": {
      "image/png": "[encoded data removed]",
      "text/plain": [
       "<Figure size 1008x432 with 1 Axes>"
      ]
     },
     "metadata": {
      "needs_background": "light"
     },
     "output_type": "display_data"
    }
   ],
   "source": [
    "plt.figure(figsize=(14,6))\n",
    "plt.bar(analyses['obs'], analyses['levier'])\n",
    "plt.xticks(np.arange(0, n, step=1000))\n",
    "plt.ylim([0,0.0025])\n",
    "plt.xlabel('Observation')\n",
    "plt.ylabel('Leviers')\n",
    "plt.plot([0, n], [seuil_levier, seuil_levier], color='r')\n",
    "plt.show()"
   ]
  },
  {
   "cell_type": "markdown",
   "metadata": {},
   "source": [
    "Pour sélectionner les points pour lesquels le levier est supérieur au seuil, on exécute la ligne suivante :"
   ]
  },
  {
   "cell_type": "code",
   "execution_count": 18,
   "metadata": {},
   "outputs": [
    {
     "data": {
      "text/html": [
       "<div>\n",
       "<style scoped>\n",
       "    .dataframe tbody tr th:only-of-type {\n",
       "        vertical-align: middle;\n",
       "    }\n",
       "\n",
       "    .dataframe tbody tr th {\n",
       "        vertical-align: top;\n",
       "    }\n",
       "\n",
       "    .dataframe thead th {\n",
       "        text-align: right;\n",
       "    }\n",
       "</style>\n",
       "<table border=\"1\" class=\"dataframe\">\n",
       "  <thead>\n",
       "    <tr style=\"text-align: right;\">\n",
       "      <th></th>\n",
       "      <th>obs</th>\n",
       "      <th>levier</th>\n",
       "    </tr>\n",
       "    <tr>\n",
       "      <th>Date</th>\n",
       "      <th></th>\n",
       "      <th></th>\n",
       "    </tr>\n",
       "  </thead>\n",
       "  <tbody>\n",
       "    <tr>\n",
       "      <th>2018-02-06 05:53:33</th>\n",
       "      <td>18</td>\n",
       "      <td>0.001224</td>\n",
       "    </tr>\n",
       "    <tr>\n",
       "      <th>2018-03-29 03:16:49</th>\n",
       "      <td>36</td>\n",
       "      <td>0.001227</td>\n",
       "    </tr>\n",
       "    <tr>\n",
       "      <th>2018-06-26 09:45:55</th>\n",
       "      <td>58</td>\n",
       "      <td>0.001228</td>\n",
       "    </tr>\n",
       "    <tr>\n",
       "      <th>2018-07-12 00:03:48</th>\n",
       "      <td>89</td>\n",
       "      <td>0.003251</td>\n",
       "    </tr>\n",
       "    <tr>\n",
       "      <th>2018-03-18 21:55:33</th>\n",
       "      <td>124</td>\n",
       "      <td>0.001144</td>\n",
       "    </tr>\n",
       "    <tr>\n",
       "      <th>...</th>\n",
       "      <td>...</td>\n",
       "      <td>...</td>\n",
       "    </tr>\n",
       "    <tr>\n",
       "      <th>2018-02-03 17:13:07</th>\n",
       "      <td>10535</td>\n",
       "      <td>0.001335</td>\n",
       "    </tr>\n",
       "    <tr>\n",
       "      <th>2018-05-16 06:13:00</th>\n",
       "      <td>10581</td>\n",
       "      <td>0.001221</td>\n",
       "    </tr>\n",
       "    <tr>\n",
       "      <th>2018-03-14 04:10:41</th>\n",
       "      <td>10596</td>\n",
       "      <td>0.001161</td>\n",
       "    </tr>\n",
       "    <tr>\n",
       "      <th>2018-06-01 16:14:57</th>\n",
       "      <td>10649</td>\n",
       "      <td>0.001266</td>\n",
       "    </tr>\n",
       "    <tr>\n",
       "      <th>2018-01-29 02:34:15</th>\n",
       "      <td>10651</td>\n",
       "      <td>0.002517</td>\n",
       "    </tr>\n",
       "  </tbody>\n",
       "</table>\n",
       "<p>380 rows × 2 columns</p>\n",
       "</div>"
      ],
      "text/plain": [
       "                       obs    levier\n",
       "Date                                \n",
       "2018-02-06 05:53:33     18  0.001224\n",
       "2018-03-29 03:16:49     36  0.001227\n",
       "2018-06-26 09:45:55     58  0.001228\n",
       "2018-07-12 00:03:48     89  0.003251\n",
       "2018-03-18 21:55:33    124  0.001144\n",
       "...                    ...       ...\n",
       "2018-02-03 17:13:07  10535  0.001335\n",
       "2018-05-16 06:13:00  10581  0.001221\n",
       "2018-03-14 04:10:41  10596  0.001161\n",
       "2018-06-01 16:14:57  10649  0.001266\n",
       "2018-01-29 02:34:15  10651  0.002517\n",
       "\n",
       "[380 rows x 2 columns]"
      ]
     },
     "execution_count": 18,
     "metadata": {},
     "output_type": "execute_result"
    }
   ],
   "source": [
    "analyses.loc[analyses['levier'] > seuil_levier, :]"
   ]
  },
  {
   "cell_type": "markdown",
   "metadata": {},
   "source": [
    "## Calculez les résidus studentisés\n",
    "\n",
    "Si l'on souhaite maintenant calculer les résidus studentisés, nous écrivons ceci, sachant que le seuil pour les résidus studentisés est une loi de Student à n-p-1 degrés de liberté :"
   ]
  },
  {
   "cell_type": "code",
   "execution_count": 19,
   "metadata": {},
   "outputs": [],
   "source": [
    "analyses['rstudent'] = reg_multi.get_influence().resid_studentized_internal\n",
    "data_train['rstudent'] = analyses['rstudent']\n",
    "seuil_rstudent = t.ppf(1-alpha/2,n-p-1)"
   ]
  },
  {
   "cell_type": "code",
   "execution_count": 20,
   "metadata": {},
   "outputs": [
    {
     "data": {
      "image/png": "[encoded data removed]",
      "text/plain": [
       "<Figure size 720x432 with 1 Axes>"
      ]
     },
     "metadata": {
      "needs_background": "light"
     },
     "output_type": "display_data"
    }
   ],
   "source": [
    "plt.figure(figsize=(10,6))\n",
    "plt.bar(analyses['obs'], analyses['rstudent'])\n",
    "plt.xticks(np.arange(0, n, step=1000))\n",
    "plt.xlabel('Observation')\n",
    "plt.ylabel('Résidus studentisés')\n",
    "plt.plot([0, n], [seuil_rstudent, seuil_rstudent], color='r')\n",
    "plt.plot([0, n], [-seuil_rstudent, -seuil_rstudent], color='r')\n",
    "plt.show()"
   ]
  },
  {
   "cell_type": "markdown",
   "metadata": {},
   "source": [
    "## Déterminez la distance de Cook\n",
    "\n",
    "Pour trouver la distance de Cook, nous exécutons ceci :"
   ]
  },
  {
   "cell_type": "code",
   "execution_count": 21,
   "metadata": {},
   "outputs": [],
   "source": [
    "influence = reg_multi.get_influence().summary_frame()"
   ]
  },
  {
   "cell_type": "code",
   "execution_count": 22,
   "metadata": {},
   "outputs": [
    {
     "name": "stdout",
     "output_type": "stream",
     "text": [
      "(10662, 12)\n"
     ]
    },
    {
     "data": {
      "text/plain": [
       "(10662, 3)"
      ]
     },
     "execution_count": 22,
     "metadata": {},
     "output_type": "execute_result"
    }
   ],
   "source": [
    "print(influence.shape)\n",
    "analyses.shape"
   ]
  },
  {
   "cell_type": "markdown",
   "metadata": {},
   "source": [
    "Le seuil de la distance de Cook est de n-p. "
   ]
  },
  {
   "cell_type": "code",
   "execution_count": 23,
   "metadata": {},
   "outputs": [
    {
     "data": {
      "text/html": [
       "<div>\n",
       "<style scoped>\n",
       "    .dataframe tbody tr th:only-of-type {\n",
       "        vertical-align: middle;\n",
       "    }\n",
       "\n",
       "    .dataframe tbody tr th {\n",
       "        vertical-align: top;\n",
       "    }\n",
       "\n",
       "    .dataframe thead th {\n",
       "        text-align: right;\n",
       "    }\n",
       "</style>\n",
       "<table border=\"1\" class=\"dataframe\">\n",
       "  <thead>\n",
       "    <tr style=\"text-align: right;\">\n",
       "      <th></th>\n",
       "      <th>dfb_Intercept</th>\n",
       "      <th>dfb_EPA_ENT</th>\n",
       "      <th>dfb_LAR_ENT</th>\n",
       "      <th>dfb_PDS_ENVOG</th>\n",
       "      <th>dfb_VIT_CEN_MOY</th>\n",
       "      <th>dfb_PCH_TMPMOY_CONS_P1</th>\n",
       "      <th>cooks_d</th>\n",
       "      <th>standard_resid</th>\n",
       "      <th>hat_diag</th>\n",
       "      <th>dffits_internal</th>\n",
       "      <th>student_resid</th>\n",
       "      <th>dffits</th>\n",
       "    </tr>\n",
       "    <tr>\n",
       "      <th>Date</th>\n",
       "      <th></th>\n",
       "      <th></th>\n",
       "      <th></th>\n",
       "      <th></th>\n",
       "      <th></th>\n",
       "      <th></th>\n",
       "      <th></th>\n",
       "      <th></th>\n",
       "      <th></th>\n",
       "      <th></th>\n",
       "      <th></th>\n",
       "      <th></th>\n",
       "    </tr>\n",
       "  </thead>\n",
       "  <tbody>\n",
       "    <tr>\n",
       "      <th>2018-08-17 10:24:29</th>\n",
       "      <td>0.004262</td>\n",
       "      <td>0.001243</td>\n",
       "      <td>-0.002461</td>\n",
       "      <td>-0.001274</td>\n",
       "      <td>0.000173</td>\n",
       "      <td>-0.004465</td>\n",
       "      <td>6.313521e-06</td>\n",
       "      <td>-0.255008</td>\n",
       "      <td>0.000582</td>\n",
       "      <td>-0.006155</td>\n",
       "      <td>-0.254997</td>\n",
       "      <td>-0.006154</td>\n",
       "    </tr>\n",
       "    <tr>\n",
       "      <th>2018-03-15 15:50:49</th>\n",
       "      <td>0.001505</td>\n",
       "      <td>0.000015</td>\n",
       "      <td>0.000601</td>\n",
       "      <td>0.001634</td>\n",
       "      <td>-0.000756</td>\n",
       "      <td>-0.002086</td>\n",
       "      <td>3.867819e-06</td>\n",
       "      <td>-0.398195</td>\n",
       "      <td>0.000146</td>\n",
       "      <td>-0.004817</td>\n",
       "      <td>-0.398179</td>\n",
       "      <td>-0.004817</td>\n",
       "    </tr>\n",
       "    <tr>\n",
       "      <th>2018-02-08 11:45:11</th>\n",
       "      <td>0.000024</td>\n",
       "      <td>0.000029</td>\n",
       "      <td>0.000114</td>\n",
       "      <td>-0.000037</td>\n",
       "      <td>0.000016</td>\n",
       "      <td>-0.000063</td>\n",
       "      <td>4.965274e-09</td>\n",
       "      <td>0.010778</td>\n",
       "      <td>0.000256</td>\n",
       "      <td>0.000173</td>\n",
       "      <td>0.010777</td>\n",
       "      <td>0.000173</td>\n",
       "    </tr>\n",
       "    <tr>\n",
       "      <th>2018-05-06 07:06:20</th>\n",
       "      <td>-0.000356</td>\n",
       "      <td>0.000292</td>\n",
       "      <td>-0.000045</td>\n",
       "      <td>0.000178</td>\n",
       "      <td>0.000202</td>\n",
       "      <td>0.000297</td>\n",
       "      <td>6.465223e-08</td>\n",
       "      <td>-0.030265</td>\n",
       "      <td>0.000423</td>\n",
       "      <td>-0.000623</td>\n",
       "      <td>-0.030264</td>\n",
       "      <td>-0.000623</td>\n",
       "    </tr>\n",
       "    <tr>\n",
       "      <th>2018-08-16 18:17:29</th>\n",
       "      <td>0.001436</td>\n",
       "      <td>-0.009621</td>\n",
       "      <td>0.000876</td>\n",
       "      <td>-0.001918</td>\n",
       "      <td>-0.006500</td>\n",
       "      <td>0.001891</td>\n",
       "      <td>2.882856e-05</td>\n",
       "      <td>0.765934</td>\n",
       "      <td>0.000295</td>\n",
       "      <td>0.013152</td>\n",
       "      <td>0.765919</td>\n",
       "      <td>0.013152</td>\n",
       "    </tr>\n",
       "  </tbody>\n",
       "</table>\n",
       "</div>"
      ],
      "text/plain": [
       "                     dfb_Intercept  dfb_EPA_ENT  dfb_LAR_ENT  dfb_PDS_ENVOG  \\\n",
       "Date                                                                          \n",
       "2018-08-17 10:24:29       0.004262     0.001243    -0.002461      -0.001274   \n",
       "2018-03-15 15:50:49       0.001505     0.000015     0.000601       0.001634   \n",
       "2018-02-08 11:45:11       0.000024     0.000029     0.000114      -0.000037   \n",
       "2018-05-06 07:06:20      -0.000356     0.000292    -0.000045       0.000178   \n",
       "2018-08-16 18:17:29       0.001436    -0.009621     0.000876      -0.001918   \n",
       "\n",
       "                     dfb_VIT_CEN_MOY  dfb_PCH_TMPMOY_CONS_P1       cooks_d  \\\n",
       "Date                                                                         \n",
       "2018-08-17 10:24:29         0.000173               -0.004465  6.313521e-06   \n",
       "2018-03-15 15:50:49        -0.000756               -0.002086  3.867819e-06   \n",
       "2018-02-08 11:45:11         0.000016               -0.000063  4.965274e-09   \n",
       "2018-05-06 07:06:20         0.000202                0.000297  6.465223e-08   \n",
       "2018-08-16 18:17:29        -0.006500                0.001891  2.882856e-05   \n",
       "\n",
       "                     standard_resid  hat_diag  dffits_internal  student_resid  \\\n",
       "Date                                                                            \n",
       "2018-08-17 10:24:29       -0.255008  0.000582        -0.006155      -0.254997   \n",
       "2018-03-15 15:50:49       -0.398195  0.000146        -0.004817      -0.398179   \n",
       "2018-02-08 11:45:11        0.010778  0.000256         0.000173       0.010777   \n",
       "2018-05-06 07:06:20       -0.030265  0.000423        -0.000623      -0.030264   \n",
       "2018-08-16 18:17:29        0.765934  0.000295         0.013152       0.765919   \n",
       "\n",
       "                       dffits  \n",
       "Date                           \n",
       "2018-08-17 10:24:29 -0.006154  \n",
       "2018-03-15 15:50:49 -0.004817  \n",
       "2018-02-08 11:45:11  0.000173  \n",
       "2018-05-06 07:06:20 -0.000623  \n",
       "2018-08-16 18:17:29  0.013152  "
      ]
     },
     "execution_count": 23,
     "metadata": {},
     "output_type": "execute_result"
    }
   ],
   "source": [
    "influence.head()"
   ]
  },
  {
   "cell_type": "code",
   "execution_count": 24,
   "metadata": {},
   "outputs": [
    {
     "data": {
      "text/html": [
       "<div>\n",
       "<style scoped>\n",
       "    .dataframe tbody tr th:only-of-type {\n",
       "        vertical-align: middle;\n",
       "    }\n",
       "\n",
       "    .dataframe tbody tr th {\n",
       "        vertical-align: top;\n",
       "    }\n",
       "\n",
       "    .dataframe thead th {\n",
       "        text-align: right;\n",
       "    }\n",
       "</style>\n",
       "<table border=\"1\" class=\"dataframe\">\n",
       "  <thead>\n",
       "    <tr style=\"text-align: right;\">\n",
       "      <th></th>\n",
       "      <th>obs</th>\n",
       "      <th>levier</th>\n",
       "      <th>rstudent</th>\n",
       "    </tr>\n",
       "    <tr>\n",
       "      <th>Date</th>\n",
       "      <th></th>\n",
       "      <th></th>\n",
       "      <th></th>\n",
       "    </tr>\n",
       "  </thead>\n",
       "  <tbody>\n",
       "    <tr>\n",
       "      <th>2018-08-17 10:24:29</th>\n",
       "      <td>1</td>\n",
       "      <td>0.000582</td>\n",
       "      <td>-0.255008</td>\n",
       "    </tr>\n",
       "    <tr>\n",
       "      <th>2018-03-15 15:50:49</th>\n",
       "      <td>2</td>\n",
       "      <td>0.000146</td>\n",
       "      <td>-0.398195</td>\n",
       "    </tr>\n",
       "    <tr>\n",
       "      <th>2018-02-08 11:45:11</th>\n",
       "      <td>3</td>\n",
       "      <td>0.000256</td>\n",
       "      <td>0.010778</td>\n",
       "    </tr>\n",
       "    <tr>\n",
       "      <th>2018-05-06 07:06:20</th>\n",
       "      <td>4</td>\n",
       "      <td>0.000423</td>\n",
       "      <td>-0.030265</td>\n",
       "    </tr>\n",
       "    <tr>\n",
       "      <th>2018-08-16 18:17:29</th>\n",
       "      <td>5</td>\n",
       "      <td>0.000295</td>\n",
       "      <td>0.765934</td>\n",
       "    </tr>\n",
       "  </tbody>\n",
       "</table>\n",
       "</div>"
      ],
      "text/plain": [
       "                     obs    levier  rstudent\n",
       "Date                                        \n",
       "2018-08-17 10:24:29    1  0.000582 -0.255008\n",
       "2018-03-15 15:50:49    2  0.000146 -0.398195\n",
       "2018-02-08 11:45:11    3  0.000256  0.010778\n",
       "2018-05-06 07:06:20    4  0.000423 -0.030265\n",
       "2018-08-16 18:17:29    5  0.000295  0.765934"
      ]
     },
     "execution_count": 24,
     "metadata": {},
     "output_type": "execute_result"
    }
   ],
   "source": [
    "analyses.head()"
   ]
  },
  {
   "cell_type": "code",
   "execution_count": 25,
   "metadata": {},
   "outputs": [],
   "source": [
    "analyses['dcooks'] = influence['cooks_d']\n",
    "data_train['dcooks']= influence['cooks_d']\n",
    "\n",
    "seuil_dcook = 4/(n-p)"
   ]
  },
  {
   "cell_type": "code",
   "execution_count": 26,
   "metadata": {},
   "outputs": [
    {
     "data": {
      "text/plain": [
       "0.00011356281339015667"
      ]
     },
     "execution_count": 26,
     "metadata": {},
     "output_type": "execute_result"
    }
   ],
   "source": [
    "analyses['dcooks'].mean()"
   ]
  },
  {
   "cell_type": "code",
   "execution_count": 27,
   "metadata": {},
   "outputs": [
    {
     "data": {
      "image/png": "[encoded data removed]",
      "text/plain": [
       "<Figure size 720x432 with 1 Axes>"
      ]
     },
     "metadata": {
      "needs_background": "light"
     },
     "output_type": "display_data"
    }
   ],
   "source": [
    "plt.figure(figsize=(10,6))\n",
    "plt.bar(analyses['obs'], analyses['dcooks'])\n",
    "plt.xticks(np.arange(0, n, step=1000))\n",
    "plt.ylim([0,0.001])\n",
    "plt.xlabel('Observation')\n",
    "plt.ylabel('Leviers')\n",
    "plt.plot([0, n], [seuil_dcook, seuil_dcook], color='r')\n",
    "plt.show()"
   ]
  },
  {
   "cell_type": "code",
   "execution_count": 28,
   "metadata": {},
   "outputs": [
    {
     "data": {
      "text/html": [
       "<div>\n",
       "<style scoped>\n",
       "    .dataframe tbody tr th:only-of-type {\n",
       "        vertical-align: middle;\n",
       "    }\n",
       "\n",
       "    .dataframe tbody tr th {\n",
       "        vertical-align: top;\n",
       "    }\n",
       "\n",
       "    .dataframe thead th {\n",
       "        text-align: right;\n",
       "    }\n",
       "</style>\n",
       "<table border=\"1\" class=\"dataframe\">\n",
       "  <thead>\n",
       "    <tr style=\"text-align: right;\">\n",
       "      <th></th>\n",
       "      <th>obs</th>\n",
       "      <th>levier</th>\n",
       "      <th>rstudent</th>\n",
       "      <th>dcooks</th>\n",
       "    </tr>\n",
       "    <tr>\n",
       "      <th>Date</th>\n",
       "      <th></th>\n",
       "      <th></th>\n",
       "      <th></th>\n",
       "      <th></th>\n",
       "    </tr>\n",
       "  </thead>\n",
       "  <tbody>\n",
       "    <tr>\n",
       "      <th>2018-07-01 04:15:13</th>\n",
       "      <td>13</td>\n",
       "      <td>0.001080</td>\n",
       "      <td>7.519111</td>\n",
       "      <td>0.010192</td>\n",
       "    </tr>\n",
       "    <tr>\n",
       "      <th>2018-03-02 08:44:46</th>\n",
       "      <td>91</td>\n",
       "      <td>0.000981</td>\n",
       "      <td>8.001079</td>\n",
       "      <td>0.010479</td>\n",
       "    </tr>\n",
       "    <tr>\n",
       "      <th>2018-03-25 09:19:46</th>\n",
       "      <td>268</td>\n",
       "      <td>0.000426</td>\n",
       "      <td>7.633256</td>\n",
       "      <td>0.004135</td>\n",
       "    </tr>\n",
       "    <tr>\n",
       "      <th>2018-05-18 10:49:03</th>\n",
       "      <td>292</td>\n",
       "      <td>0.000920</td>\n",
       "      <td>2.134661</td>\n",
       "      <td>0.000700</td>\n",
       "    </tr>\n",
       "    <tr>\n",
       "      <th>2018-03-02 15:34:39</th>\n",
       "      <td>304</td>\n",
       "      <td>0.000278</td>\n",
       "      <td>3.735281</td>\n",
       "      <td>0.000646</td>\n",
       "    </tr>\n",
       "    <tr>\n",
       "      <th>...</th>\n",
       "      <td>...</td>\n",
       "      <td>...</td>\n",
       "      <td>...</td>\n",
       "      <td>...</td>\n",
       "    </tr>\n",
       "    <tr>\n",
       "      <th>2018-06-15 11:56:12</th>\n",
       "      <td>10235</td>\n",
       "      <td>0.000846</td>\n",
       "      <td>5.567098</td>\n",
       "      <td>0.004374</td>\n",
       "    </tr>\n",
       "    <tr>\n",
       "      <th>2018-03-30 07:35:01</th>\n",
       "      <td>10304</td>\n",
       "      <td>0.000846</td>\n",
       "      <td>2.363222</td>\n",
       "      <td>0.000788</td>\n",
       "    </tr>\n",
       "    <tr>\n",
       "      <th>2018-04-20 15:38:58</th>\n",
       "      <td>10307</td>\n",
       "      <td>0.000657</td>\n",
       "      <td>4.613831</td>\n",
       "      <td>0.002332</td>\n",
       "    </tr>\n",
       "    <tr>\n",
       "      <th>2018-04-20 02:44:02</th>\n",
       "      <td>10321</td>\n",
       "      <td>0.000672</td>\n",
       "      <td>2.755701</td>\n",
       "      <td>0.000851</td>\n",
       "    </tr>\n",
       "    <tr>\n",
       "      <th>2018-02-03 17:13:07</th>\n",
       "      <td>10535</td>\n",
       "      <td>0.001335</td>\n",
       "      <td>4.771338</td>\n",
       "      <td>0.005071</td>\n",
       "    </tr>\n",
       "  </tbody>\n",
       "</table>\n",
       "<p>107 rows × 4 columns</p>\n",
       "</div>"
      ],
      "text/plain": [
       "                       obs    levier  rstudent    dcooks\n",
       "Date                                                    \n",
       "2018-07-01 04:15:13     13  0.001080  7.519111  0.010192\n",
       "2018-03-02 08:44:46     91  0.000981  8.001079  0.010479\n",
       "2018-03-25 09:19:46    268  0.000426  7.633256  0.004135\n",
       "2018-05-18 10:49:03    292  0.000920  2.134661  0.000700\n",
       "2018-03-02 15:34:39    304  0.000278  3.735281  0.000646\n",
       "...                    ...       ...       ...       ...\n",
       "2018-06-15 11:56:12  10235  0.000846  5.567098  0.004374\n",
       "2018-03-30 07:35:01  10304  0.000846  2.363222  0.000788\n",
       "2018-04-20 15:38:58  10307  0.000657  4.613831  0.002332\n",
       "2018-04-20 02:44:02  10321  0.000672  2.755701  0.000851\n",
       "2018-02-03 17:13:07  10535  0.001335  4.771338  0.005071\n",
       "\n",
       "[107 rows x 4 columns]"
      ]
     },
     "execution_count": 28,
     "metadata": {},
     "output_type": "execute_result"
    }
   ],
   "source": [
    "#analyses.loc[analyses['levier'] > seuil_levier, :] \n",
    "analyses.loc[analyses['rstudent'] > seuil_rstudent, :]"
   ]
  },
  {
   "cell_type": "markdown",
   "metadata": {},
   "source": [
    "# On ne retire des points qu'après avoir vérifié qu'ils sont effectivement atypiques, voire aberrants, au vu du modèle estimé."
   ]
  },
  {
   "cell_type": "code",
   "execution_count": 29,
   "metadata": {},
   "outputs": [
    {
     "name": "stdout",
     "output_type": "stream",
     "text": [
      "Nombre de données avant suppression des Leviers:  10662\n",
      "Nombre de données aprés suppression des Leviers:  10282\n",
      "Nombre de données avant suppression des teststu:  10282\n",
      "Nombre de données aprés suppression des teststu:  10199\n",
      "Nombre de données avant test distance de cook:  10199\n",
      "Nombre de données aprés test distance de cook:  10184\n"
     ]
    }
   ],
   "source": [
    "data_train_clean = data_train[(data_train.levier < seuil_levier)]\n",
    "\n",
    "print('Nombre de données avant suppression des Leviers: ',len(data_train))\n",
    "print('Nombre de données aprés suppression des Leviers: ',len(data_train_clean))\n",
    "\n",
    "data_train_clean2 = data_train_clean[(data_train_clean.rstudent < seuil_rstudent) & (data_train_clean.rstudent > -seuil_rstudent) ]\n",
    "\n",
    "\n",
    "print('Nombre de données avant suppression des teststu: ',len(data_train_clean))\n",
    "print('Nombre de données aprés suppression des teststu: ',len(data_train_clean2))\n",
    "\n",
    "data_train_clean3 = data_train_clean2[(data_train_clean2.dcooks < seuil_dcook)]\n",
    "\n",
    "print('Nombre de données avant test distance de cook: ',len(data_train_clean2))\n",
    "print('Nombre de données aprés test distance de cook: ',len(data_train_clean3))\n"
   ]
  },
  {
   "cell_type": "markdown",
   "metadata": {},
   "source": [
    "# Recursive facteur elimination avec RFE"
   ]
  },
  {
   "cell_type": "code",
   "execution_count": 30,
   "metadata": {},
   "outputs": [
    {
     "data": {
      "image/png": "[encoded data removed]",
      "text/plain": [
       "<Figure size 432x288 with 1 Axes>"
      ]
     },
     "metadata": {
      "needs_background": "light"
     },
     "output_type": "display_data"
    }
   ],
   "source": [
    "from sklearn.feature_selection import RFE\n",
    "from sklearn.linear_model import LinearRegression\n",
    "\n",
    "init_facteur = ['LNG_BOB_REA','EPA_ENT', 'LAR_ENT', 'PDS_ENVOG', 'VIT_CEN_MOY', 'PCH_TMPMOY_CONS_P1']\n",
    "\n",
    "linreg = LinearRegression()\n",
    "selector = RFE(linreg, n_features_to_select=5, step=1)\n",
    "selector = selector.fit(data_train_clean3[init_facteur], data_train_clean3['FOU_CONSO_GAZ_GEN'])\n",
    "\n",
    "\n",
    "\n",
    "from matplotlib.pyplot import *\n",
    "\n",
    "fig, ax = subplots()\n",
    "#df = pd.DataFrame({'A':26, 'B':20}, index=['N'])\n",
    "#df.plot(kind='bar', ax=ax)\n",
    "\n",
    "\n",
    "colours = {True: \"g\", False: \"r\"}\n",
    "\n",
    "v_feat = [1 for f in selector.support_]\n",
    "\n",
    "df = pd.DataFrame({'V':v_feat,'Is':selector.support_},index=init_facteur)\n",
    "\n",
    "\n",
    "df['V'].plot(\n",
    "    kind=\"bar\", \n",
    "    color=df['Is'].replace(colours),\n",
    "    yticks=[],\n",
    "    ax=ax,\n",
    "    title='Resu. algorithme sélection des facteurs'\n",
    ");\n",
    "\n"
   ]
  },
  {
   "cell_type": "markdown",
   "metadata": {},
   "source": [
    "# Identification de l'importance des facteurs avec un arbre de décision en supprimant \"LNG_BOB_REA\""
   ]
  },
  {
   "cell_type": "code",
   "execution_count": 31,
   "metadata": {},
   "outputs": [
    {
     "data": {
      "image/png": "[encoded data removed]",
      "text/plain": [
       "<Figure size 432x288 with 1 Axes>"
      ]
     },
     "metadata": {
      "needs_background": "light"
     },
     "output_type": "display_data"
    }
   ],
   "source": [
    "from sklearn.tree import DecisionTreeRegressor\n",
    "\n",
    "regressor = DecisionTreeRegressor(random_state=0)\n",
    "regressor.fit(data_train_clean3[['EPA_ENT', 'LAR_ENT', 'PDS_ENVOG', 'VIT_CEN_MOY', 'PCH_TMPMOY_CONS_P1']], data_train_clean3['FOU_CONSO_GAZ_GEN'])\n",
    "feat_name = ['EPA_ENT', 'LAR_ENT', 'PDS_ENVOG', 'VIT_CEN_MOY', 'PCH_TMPMOY_CONS_P1']\n",
    "feat_weight = regressor.feature_importances_\n",
    "\n",
    "plot_feature_weight(feat_name,feat_weight )"
   ]
  },
  {
   "cell_type": "markdown",
   "metadata": {},
   "source": [
    "# Vérifier la colinéarité des facteurs explicatifs"
   ]
  },
  {
   "cell_type": "code",
   "execution_count": 32,
   "metadata": {},
   "outputs": [
    {
     "data": {
      "image/png": "[encoded data removed]",
      "text/plain": [
       "<Figure size 432x288 with 1 Axes>"
      ]
     },
     "metadata": {
      "needs_background": "light"
     },
     "output_type": "display_data"
    }
   ],
   "source": [
    "reg_multi = smf.ols('FOU_CONSO_GAZ_GEN~EPA_ENT+LAR_ENT+PDS_ENVOG+VIT_CEN_MOY+PCH_TMPMOY_CONS_P1', data=data_train_clean3).fit()\n",
    "variables = reg_multi.model.exog\n",
    "vif = [variance_inflation_factor(variables, i) for i in np.arange(1,variables.shape[1])]\n",
    "exog_names=['EPA_ENT','LAR_ENT','PDS_ENVOG','VIT_CEN_MOY','PCH_TMPMOY_CONS_P1']\n",
    "df = pd.DataFrame({'VIF':vif},index=exog_names)\n",
    "\n",
    "fig, ax = subplots()\n",
    "\n",
    "\n",
    "g = df['VIF'].plot(\n",
    "    kind=\"bar\", \n",
    "    ax=ax,\n",
    "    title='Etude colinéarité des facteurs'\n",
    ");\n",
    "\n",
    "ax.plot([0, 4], [10, 10], color='r');\n",
    "plt.ylabel('Variance Inflaction Factor');"
   ]
  },
  {
   "cell_type": "markdown",
   "metadata": {},
   "source": [
    "# On réeffectue la regression avec les données nettoyées"
   ]
  },
  {
   "cell_type": "code",
   "execution_count": 33,
   "metadata": {},
   "outputs": [
    {
     "name": "stdout",
     "output_type": "stream",
     "text": [
      "R2= 0.9361237033354464\n"
     ]
    },
    {
     "data": {
      "image/png": "[encoded data removed]",
      "text/plain": [
       "<Figure size 360x360 with 1 Axes>"
      ]
     },
     "metadata": {
      "needs_background": "light"
     },
     "output_type": "display_data"
    }
   ],
   "source": [
    "model_reglin = smf.ols('FOU_CONSO_GAZ_GEN~EPA_ENT+LAR_ENT+PDS_ENVOG+VIT_CEN_MOY+PCH_TMPMOY_CONS_P1', data=data_train_clean3).fit()\n",
    "\n",
    "\n",
    "y_mes = data_train_clean3['FOU_CONSO_GAZ_GEN'].values\n",
    "y_mod = model_reglin.predict(data_train_clean3[['EPA_ENT', 'LAR_ENT', 'PDS_ENVOG', 'VIT_CEN_MOY', 'PCH_TMPMOY_CONS_P1']])\n",
    "\n",
    "print('R2=',model_reglin.rsquared)\n",
    "ploy_y_ymod(y_mes, y_mod.values)"
   ]
  },
  {
   "cell_type": "markdown",
   "metadata": {},
   "source": [
    "## Testez l’homoscédasticité\n",
    "\n",
    "On peut également tester l’homoscédasticité (c'est-à-dire la constance de la variance) des résidus :"
   ]
  },
  {
   "cell_type": "code",
   "execution_count": 34,
   "metadata": {},
   "outputs": [
    {
     "name": "stdout",
     "output_type": "stream",
     "text": [
      "p value test Breusch Pagan: 8.402717088522285e-125\n"
     ]
    }
   ],
   "source": [
    "_, pval, __, f_pval = statsmodels.stats.diagnostic.het_breuschpagan(reg_multi.resid, variables)\n",
    "print('p value test Breusch Pagan:', pval)"
   ]
  },
  {
   "cell_type": "markdown",
   "metadata": {},
   "source": [
    "La p-valeur ici n'est inférieure à $5$%, rejette donc l'hypothèse $H0$ selon laquelle les variances sont constantes (l'hypothèse d’homoscédasticité).\n",
    "\n",
    "## Testez la normalité des résidus\n",
    "\n",
    "Si l'on veut tester la normalité des résidus, on peut faire un test de Shapiro-Wilk."
   ]
  },
  {
   "cell_type": "code",
   "execution_count": 35,
   "metadata": {},
   "outputs": [
    {
     "name": "stderr",
     "output_type": "stream",
     "text": [
      "c:\\users\\33623\\pycharmprojects\\testregressionlineaire\\venv\\lib\\site-packages\\scipy\\stats\\morestats.py:1681: UserWarning: p-value may not be accurate for N > 5000.\n",
      "  warnings.warn(\"p-value may not be accurate for N > 5000.\")\n"
     ]
    },
    {
     "data": {
      "text/plain": [
       "ShapiroResult(statistic=0.9912617802619934, pvalue=1.6999512717558144e-24)"
      ]
     },
     "execution_count": 35,
     "metadata": {},
     "output_type": "execute_result"
    }
   ],
   "source": [
    "shapiro(reg_multi.resid)"
   ]
  },
  {
   "cell_type": "code",
   "execution_count": 36,
   "metadata": {},
   "outputs": [
    {
     "data": {
      "image/png": "[encoded data removed]",
      "text/plain": [
       "<Figure size 432x288 with 1 Axes>"
      ]
     },
     "metadata": {
      "needs_background": "light"
     },
     "output_type": "display_data"
    }
   ],
   "source": [
    "import matplotlib.pyplot as plt\n",
    "\n",
    "plt.hist(reg_multi.resid.values, 50, facecolor='green', alpha=0.75)\n",
    "\n",
    "plt.show()"
   ]
  },
  {
   "cell_type": "code",
   "execution_count": 37,
   "metadata": {},
   "outputs": [
    {
     "name": "stdout",
     "output_type": "stream",
     "text": [
      "R2= 0.9347382490070058\n"
     ]
    },
    {
     "data": {
      "image/png": "[encoded data removed]",
      "text/plain": [
       "<Figure size 360x360 with 1 Axes>"
      ]
     },
     "metadata": {
      "needs_background": "light"
     },
     "output_type": "display_data"
    }
   ],
   "source": [
    "y_mes = data_train_clean3['FOU_CONSO_GAZ_GEN'].values\n",
    "\n",
    "reg_multi = smf.ols('FOU_CONSO_GAZ_GEN~LAR_ENT+PDS_ENVOG+PCH_TMPMOY_CONS_P1', data=data_train_clean3).fit()\n",
    "\n",
    "\n",
    "y_mod = reg_multi.predict(data_train_clean3[['LAR_ENT', 'PDS_ENVOG', 'PCH_TMPMOY_CONS_P1']])\n",
    "\n",
    "print('R2=',reg_multi.rsquared)\n",
    "ploy_y_ymod(y_mes, y_mod.values)\n"
   ]
  },
  {
   "cell_type": "markdown",
   "metadata": {},
   "source": [
    "## Regression régularisée"
   ]
  },
  {
   "cell_type": "code",
   "execution_count": 38,
   "metadata": {},
   "outputs": [
    {
     "name": "stdout",
     "output_type": "stream",
     "text": [
      "<statsmodels.base.elastic_net.RegularizedResults object at 0x0000016F9CABE488>\n"
     ]
    }
   ],
   "source": [
    "import statsmodels.api as sm\n",
    "\n",
    "\n",
    "model = sm.OLS(data_train_clean3['FOU_CONSO_GAZ_GEN'], data_train_clean3[['LNG_BOB_REA','EPA_ENT', 'LAR_ENT', 'PDS_ENVOG', 'VIT_CEN_MOY', 'PCH_TMPMOY_CONS_P1']])\n",
    "\n",
    "results_fr = model.fit_regularized(L1_wt=0, alpha=0.1)\n",
    "print(results_fr)"
   ]
  },
  {
   "cell_type": "code",
   "execution_count": 39,
   "metadata": {},
   "outputs": [
    {
     "data": {
      "text/html": [
       "<div>\n",
       "<style scoped>\n",
       "    .dataframe tbody tr th:only-of-type {\n",
       "        vertical-align: middle;\n",
       "    }\n",
       "\n",
       "    .dataframe tbody tr th {\n",
       "        vertical-align: top;\n",
       "    }\n",
       "\n",
       "    .dataframe thead th {\n",
       "        text-align: right;\n",
       "    }\n",
       "</style>\n",
       "<table border=\"1\" class=\"dataframe\">\n",
       "  <thead>\n",
       "    <tr style=\"text-align: right;\">\n",
       "      <th></th>\n",
       "      <th>EPA_ENT</th>\n",
       "      <th>LAR_ENT</th>\n",
       "      <th>LNG_BOB_REA</th>\n",
       "      <th>PDS_ENVOG</th>\n",
       "      <th>VIT_CEN_MOY</th>\n",
       "      <th>PCH_TMPMOY_CONS_P1</th>\n",
       "      <th>FOU_CONSO_GAZ_GEN</th>\n",
       "      <th>levier</th>\n",
       "      <th>rstudent</th>\n",
       "      <th>dcooks</th>\n",
       "    </tr>\n",
       "    <tr>\n",
       "      <th>Date</th>\n",
       "      <th></th>\n",
       "      <th></th>\n",
       "      <th></th>\n",
       "      <th></th>\n",
       "      <th></th>\n",
       "      <th></th>\n",
       "      <th></th>\n",
       "      <th></th>\n",
       "      <th></th>\n",
       "      <th></th>\n",
       "    </tr>\n",
       "  </thead>\n",
       "  <tbody>\n",
       "    <tr>\n",
       "      <th>2018-08-17 10:24:29</th>\n",
       "      <td>871.0</td>\n",
       "      <td>1507.5</td>\n",
       "      <td>1865.0</td>\n",
       "      <td>19820.0</td>\n",
       "      <td>99.77317</td>\n",
       "      <td>740.0</td>\n",
       "      <td>474.954219</td>\n",
       "      <td>0.000582</td>\n",
       "      <td>-0.255008</td>\n",
       "      <td>6.313521e-06</td>\n",
       "    </tr>\n",
       "    <tr>\n",
       "      <th>2018-03-15 15:50:49</th>\n",
       "      <td>859.0</td>\n",
       "      <td>1276.6</td>\n",
       "      <td>1389.0</td>\n",
       "      <td>12620.0</td>\n",
       "      <td>109.42650</td>\n",
       "      <td>700.0</td>\n",
       "      <td>283.578887</td>\n",
       "      <td>0.000146</td>\n",
       "      <td>-0.398195</td>\n",
       "      <td>3.867819e-06</td>\n",
       "    </tr>\n",
       "    <tr>\n",
       "      <th>2018-02-08 11:45:11</th>\n",
       "      <td>979.0</td>\n",
       "      <td>1503.0</td>\n",
       "      <td>1190.0</td>\n",
       "      <td>13660.0</td>\n",
       "      <td>103.00250</td>\n",
       "      <td>670.0</td>\n",
       "      <td>307.765624</td>\n",
       "      <td>0.000256</td>\n",
       "      <td>0.010778</td>\n",
       "      <td>4.965274e-09</td>\n",
       "    </tr>\n",
       "    <tr>\n",
       "      <th>2018-05-06 07:06:20</th>\n",
       "      <td>392.0</td>\n",
       "      <td>1342.2</td>\n",
       "      <td>2345.0</td>\n",
       "      <td>9870.0</td>\n",
       "      <td>130.00000</td>\n",
       "      <td>650.0</td>\n",
       "      <td>220.257157</td>\n",
       "      <td>0.000423</td>\n",
       "      <td>-0.030265</td>\n",
       "      <td>6.465223e-08</td>\n",
       "    </tr>\n",
       "    <tr>\n",
       "      <th>2018-08-16 18:17:29</th>\n",
       "      <td>493.0</td>\n",
       "      <td>1343.7</td>\n",
       "      <td>2433.0</td>\n",
       "      <td>12830.0</td>\n",
       "      <td>116.74550</td>\n",
       "      <td>690.0</td>\n",
       "      <td>380.301128</td>\n",
       "      <td>0.000295</td>\n",
       "      <td>0.765934</td>\n",
       "      <td>2.882856e-05</td>\n",
       "    </tr>\n",
       "  </tbody>\n",
       "</table>\n",
       "</div>"
      ],
      "text/plain": [
       "                     EPA_ENT  LAR_ENT  LNG_BOB_REA  PDS_ENVOG  VIT_CEN_MOY  \\\n",
       "Date                                                                         \n",
       "2018-08-17 10:24:29    871.0   1507.5       1865.0    19820.0     99.77317   \n",
       "2018-03-15 15:50:49    859.0   1276.6       1389.0    12620.0    109.42650   \n",
       "2018-02-08 11:45:11    979.0   1503.0       1190.0    13660.0    103.00250   \n",
       "2018-05-06 07:06:20    392.0   1342.2       2345.0     9870.0    130.00000   \n",
       "2018-08-16 18:17:29    493.0   1343.7       2433.0    12830.0    116.74550   \n",
       "\n",
       "                     PCH_TMPMOY_CONS_P1  FOU_CONSO_GAZ_GEN    levier  \\\n",
       "Date                                                                   \n",
       "2018-08-17 10:24:29               740.0         474.954219  0.000582   \n",
       "2018-03-15 15:50:49               700.0         283.578887  0.000146   \n",
       "2018-02-08 11:45:11               670.0         307.765624  0.000256   \n",
       "2018-05-06 07:06:20               650.0         220.257157  0.000423   \n",
       "2018-08-16 18:17:29               690.0         380.301128  0.000295   \n",
       "\n",
       "                     rstudent        dcooks  \n",
       "Date                                         \n",
       "2018-08-17 10:24:29 -0.255008  6.313521e-06  \n",
       "2018-03-15 15:50:49 -0.398195  3.867819e-06  \n",
       "2018-02-08 11:45:11  0.010778  4.965274e-09  \n",
       "2018-05-06 07:06:20 -0.030265  6.465223e-08  \n",
       "2018-08-16 18:17:29  0.765934  2.882856e-05  "
      ]
     },
     "execution_count": 39,
     "metadata": {},
     "output_type": "execute_result"
    }
   ],
   "source": [
    "data_train_clean3.head()"
   ]
  },
  {
   "cell_type": "code",
   "execution_count": 40,
   "metadata": {},
   "outputs": [],
   "source": [
    "from sklearn import linear_model\n",
    "import numpy as np\n",
    "from sklearn.preprocessing import MinMaxScaler\n",
    "\n",
    "scaler = MinMaxScaler()\n",
    "n_alphas = 300\n",
    "alphas = np.logspace(-5, 10, n_alphas)\n",
    "ridge = linear_model.Ridge()\n",
    "baseline_error = []\n",
    "\n",
    "dataset = data_avt[['EPA_ENT', 'LAR_ENT', 'PDS_ENVOG', 'VIT_CEN_MOY', 'PCH_TMPMOY_CONS_P1','FOU_CONSO_GAZ_GEN']].values\n",
    "# Variables explicatives\n",
    "X_test = dataset[:, :-1]\n",
    "\n",
    "y_test = dataset[:,-1]\n",
    "\n",
    "\n",
    "\n",
    "\n",
    "X_test_scaled  = scaler.fit_transform(X_test)\n",
    "\n",
    "coefs = []\n",
    "errors = []\n",
    "for a in alphas:\n",
    "    ridge.set_params(alpha=a)\n",
    "    ridge.fit(X_test_scaled, y_test)\n",
    "    coefs.append(ridge.coef_)\n",
    "    errors.append(np.mean((ridge.predict(X_test_scaled) - y_test) ** 2))"
   ]
  },
  {
   "cell_type": "code",
   "execution_count": 41,
   "metadata": {},
   "outputs": [
    {
     "data": {
      "image/png": "[encoded data removed]",
      "text/plain": [
       "<Figure size 432x288 with 1 Axes>"
      ]
     },
     "metadata": {
      "needs_background": "light"
     },
     "output_type": "display_data"
    }
   ],
   "source": [
    "import matplotlib.pyplot as plt\n",
    "\n",
    "ax = plt.gca()\n",
    "\n",
    "ax.plot(alphas, coefs)\n",
    "ax.set_xscale('log')\n",
    "plt.xlabel('alpha')\n",
    "plt.ylabel('weights')\n",
    "plt.axis('tight')\n",
    "plt.show()"
   ]
  },
  {
   "cell_type": "code",
   "execution_count": 42,
   "metadata": {
    "scrolled": true
   },
   "outputs": [
    {
     "data": {
      "image/png": "[encoded data removed]",
      "text/plain": [
       "<Figure size 432x288 with 1 Axes>"
      ]
     },
     "metadata": {
      "needs_background": "light"
     },
     "output_type": "display_data"
    }
   ],
   "source": [
    "import matplotlib.pyplot as plt\n",
    "\n",
    "ax = plt.gca()\n",
    "\n",
    "ax.plot(alphas, errors)\n",
    "ax.set_xscale('log')\n",
    "plt.xlabel('alpha')\n",
    "plt.ylabel('error')\n",
    "plt.axis('tight')\n",
    "plt.show()"
   ]
  },
  {
   "cell_type": "markdown",
   "metadata": {},
   "source": [
    "## Algorithme de sélection des modèles"
   ]
  },
  {
   "cell_type": "code",
   "execution_count": 43,
   "metadata": {},
   "outputs": [],
   "source": [
    "from sklearn import linear_model\n",
    "import numpy as np\n",
    "\n",
    "\n",
    "\n",
    "dataset = data_avt[['LNG_BOB_REA','EPA_ENT', 'LAR_ENT', 'PDS_ENVOG', 'VIT_CEN_MOY', 'PCH_TMPMOY_CONS_P1','FOU_CONSO_GAZ_GEN']].values\n",
    "# Variables explicatives\n",
    "X = dataset[:, :-1]\n",
    "\n",
    "y = dataset[:,-1]\n",
    "\n",
    "# normalize data as done by Lars to allow for comparison\n",
    "X /= np.sqrt(np.sum(X ** 2, axis=0))\n"
   ]
  },
  {
   "cell_type": "code",
   "execution_count": 44,
   "metadata": {},
   "outputs": [
    {
     "data": {
      "text/plain": [
       "Text(0.5, 1.0, 'Information-criterion for model selection (training time 0.000s)')"
      ]
     },
     "execution_count": 44,
     "metadata": {},
     "output_type": "execute_result"
    },
    {
     "data": {
      "image/png": "[encoded data removed]",
      "text/plain": [
       "<Figure size 432x288 with 1 Axes>"
      ]
     },
     "metadata": {
      "needs_background": "light"
     },
     "output_type": "display_data"
    }
   ],
   "source": [
    "# #############################################################################\n",
    "# LassoLarsIC: least angle regression with BIC/AIC criterion\n",
    "import time\n",
    "\n",
    "import numpy as np\n",
    "import matplotlib.pyplot as plt\n",
    "\n",
    "from sklearn.linear_model import LassoCV, LassoLarsCV, LassoLarsIC\n",
    "model_bic = LassoLarsIC(criterion='bic')\n",
    "t1 = time.time()\n",
    "model_bic.fit(X, y)\n",
    "t_bic = time.time() - t1\n",
    "alpha_bic_ = model_bic.alpha_\n",
    "\n",
    "model_aic = LassoLarsIC(criterion='aic')\n",
    "model_aic.fit(X, y)\n",
    "alpha_aic_ = model_aic.alpha_\n",
    "EPSILON = 1e-4\n",
    "\n",
    "def plot_ic_criterion(model, name, color):\n",
    "    criterion_ = model.criterion_\n",
    "    plt.semilogx(model.alphas_ + EPSILON, criterion_, '--', color=color,\n",
    "                 linewidth=3, label='%s criterion' % name)\n",
    "    plt.axvline(model.alpha_ + EPSILON, color=color, linewidth=3,\n",
    "                label='alpha: %s estimate' % name)\n",
    "    plt.xlabel(r'$\\alpha$')\n",
    "    plt.ylabel('criterion')\n",
    "\n",
    "\n",
    "plt.figure()\n",
    "plot_ic_criterion(model_aic, 'AIC', 'b')\n",
    "plot_ic_criterion(model_bic, 'BIC', 'r')\n",
    "plt.legend()\n",
    "plt.title('Information-criterion for model selection (training time %.3fs)'\n",
    "          % t_bic)\n",
    "\n",
    "\n",
    "\n",
    "\n"
   ]
  },
  {
   "cell_type": "code",
   "execution_count": 45,
   "metadata": {},
   "outputs": [
    {
     "name": "stdout",
     "output_type": "stream",
     "text": [
      "Computing regularization path using the coordinate descent lasso...\n",
      "Computing regularization path using the Lars lasso...\n"
     ]
    },
    {
     "data": {
      "image/png": "[encoded data removed]",
      "text/plain": [
       "<Figure size 432x288 with 1 Axes>"
      ]
     },
     "metadata": {
      "needs_background": "light"
     },
     "output_type": "display_data"
    },
    {
     "data": {
      "image/png": "[encoded data removed]",
      "text/plain": [
       "<Figure size 432x288 with 1 Axes>"
      ]
     },
     "metadata": {
      "needs_background": "light"
     },
     "output_type": "display_data"
    }
   ],
   "source": [
    "# #############################################################################\n",
    "# LassoCV: coordinate descent\n",
    "\n",
    "# Compute paths\n",
    "print(\"Computing regularization path using the coordinate descent lasso...\")\n",
    "t1 = time.time()\n",
    "model = LassoCV(cv=20).fit(X, y)\n",
    "t_lasso_cv = time.time() - t1\n",
    "\n",
    "# Display results\n",
    "plt.figure()\n",
    "ymin, ymax = 2300, 3800\n",
    "plt.semilogx(model.alphas_ + EPSILON, model.mse_path_, ':')\n",
    "plt.plot(model.alphas_ + EPSILON, model.mse_path_.mean(axis=-1), 'k',\n",
    "         label='Average across the folds', linewidth=2)\n",
    "plt.axvline(model.alpha_ + EPSILON, linestyle='--', color='k',\n",
    "            label='alpha: CV estimate')\n",
    "\n",
    "plt.legend()\n",
    "\n",
    "plt.xlabel(r'$\\alpha$')\n",
    "plt.ylabel('Mean square error')\n",
    "plt.title('Mean square error on each fold: coordinate descent '\n",
    "          '(train time: %.2fs)' % t_lasso_cv)\n",
    "plt.axis('tight')\n",
    "plt.ylim(ymin, ymax)\n",
    "\n",
    "# #############################################################################\n",
    "# LassoLarsCV: least angle regression\n",
    "\n",
    "# Compute paths\n",
    "print(\"Computing regularization path using the Lars lasso...\")\n",
    "t1 = time.time()\n",
    "model = LassoLarsCV(cv=20).fit(X, y)\n",
    "t_lasso_lars_cv = time.time() - t1\n",
    "\n",
    "# Display results\n",
    "plt.figure()\n",
    "plt.semilogx(model.cv_alphas_ + EPSILON, model.mse_path_, ':')\n",
    "plt.semilogx(model.cv_alphas_ + EPSILON, model.mse_path_.mean(axis=-1), 'k',\n",
    "             label='Average across the folds', linewidth=2)\n",
    "plt.axvline(model.alpha_, linestyle='--', color='k',\n",
    "            label='alpha CV')\n",
    "plt.legend()\n",
    "\n",
    "plt.xlabel(r'$\\alpha$')\n",
    "plt.ylabel('Mean square error')\n",
    "plt.title('Mean square error on each fold: Lars (train time: %.2fs)'\n",
    "          % t_lasso_lars_cv)\n",
    "plt.axis('tight')\n",
    "plt.ylim(ymin, ymax)\n",
    "\n",
    "plt.show()"
   ]
  },
  {
   "cell_type": "code",
   "execution_count": null,
   "metadata": {},
   "outputs": [],
   "source": []
  }
 ],
 "metadata": {
  "colab": {
   "authorship_tag": "ABX9TyP1FodwUi+1Xgc0nK7MslUd",
   "collapsed_sections": [],
   "mount_file_id": "1BmRnwTULndr9P_2AB31kkUpP4RmNJ_5Z",
   "name": "CasUltiWatt.ipynb",
   "provenance": [],
   "toc_visible": true
  },
  "kernelspec": {
   "display_name": "Python 3",
   "language": "python",
   "name": "python3"
  },
  "language_info": {
   "codemirror_mode": {
    "name": "ipython",
    "version": 3
   },
   "file_extension": ".py",
   "mimetype": "text/x-python",
   "name": "python",
   "nbconvert_exporter": "python",
   "pygments_lexer": "ipython3",
   "version": "3.7.7"
  }
 },
 "nbformat": 4,
 "nbformat_minor": 1
}
